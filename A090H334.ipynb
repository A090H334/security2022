{
  "nbformat": 4,
  "nbformat_minor": 0,
  "metadata": {
    "colab": {
      "provenance": [],
      "collapsed_sections": []
    },
    "kernelspec": {
      "name": "python3",
      "display_name": "Python 3"
    },
    "language_info": {
      "name": "python"
    }
  },
  "cells": [
    {
      "cell_type": "markdown",
      "source": [
        "# HASH 雜湊函數\n",
        "1005\n",
        "- md5\n",
        "- sha1\n",
        "\n",
        "\n",
        "\n",
        "- linux指令\n",
        "- md5sum\n",
        "- Colab使用方式 : !md5sum 檔案名稱"
      ],
      "metadata": {
        "id": "Y82fcaiA4Bhq"
      }
    },
    {
      "cell_type": "code",
      "execution_count": null,
      "metadata": {
        "colab": {
          "base_uri": "https://localhost:8080/"
        },
        "id": "X1ckxy5r3PBj",
        "outputId": "45f80379-87d1-4ff6-f4dd-456571cedfdd"
      },
      "outputs": [
        {
          "output_type": "stream",
          "name": "stdout",
          "text": [
            "Usage: md5sum [OPTION]... [FILE]...\n",
            "Print or check MD5 (128-bit) checksums.\n",
            "\n",
            "With no FILE, or when FILE is -, read standard input.\n",
            "\n",
            "  -b, --binary         read in binary mode\n",
            "  -c, --check          read MD5 sums from the FILEs and check them\n",
            "      --tag            create a BSD-style checksum\n",
            "  -t, --text           read in text mode (default)\n",
            "\n",
            "The following five options are useful only when verifying checksums:\n",
            "      --ignore-missing  don't fail or report status for missing files\n",
            "      --quiet          don't print OK for each successfully verified file\n",
            "      --status         don't output anything, status code shows success\n",
            "      --strict         exit non-zero for improperly formatted checksum lines\n",
            "  -w, --warn           warn about improperly formatted checksum lines\n",
            "\n",
            "      --help     display this help and exit\n",
            "      --version  output version information and exit\n",
            "\n",
            "The sums are computed as described in RFC 1321.  When checking, the input\n",
            "should be a former output of this program.  The default mode is to print a\n",
            "line with checksum, a space, a character indicating input mode ('*' for binary,\n",
            "' ' for text or where binary is insignificant), and name for each FILE.\n",
            "\n",
            "GNU coreutils online help: <http://www.gnu.org/software/coreutils/>\n",
            "Full documentation at: <http://www.gnu.org/software/coreutils/md5sum>\n",
            "or available locally via: info '(coreutils) md5sum invocation'\n"
          ]
        }
      ],
      "source": [
        "!md5sum --help"
      ]
    },
    {
      "cell_type": "code",
      "source": [
        "!echo howareyou > 1005.txt"
      ],
      "metadata": {
        "id": "DkngeX_W3aFB"
      },
      "execution_count": 1,
      "outputs": []
    },
    {
      "cell_type": "code",
      "source": [
        "!cat 1005.txt"
      ],
      "metadata": {
        "colab": {
          "base_uri": "https://localhost:8080/"
        },
        "id": "fhqQV5Hn3lZK",
        "outputId": "33c4ec2a-de7e-4424-a8bf-ee1ee72591a9"
      },
      "execution_count": 2,
      "outputs": [
        {
          "output_type": "stream",
          "name": "stdout",
          "text": [
            "howareyou\n"
          ]
        }
      ]
    },
    {
      "cell_type": "code",
      "source": [
        "!md5sum 1005.txt"
      ],
      "metadata": {
        "colab": {
          "base_uri": "https://localhost:8080/"
        },
        "id": "SXdikq8g3rqI",
        "outputId": "7a1a0de8-fa85-407d-d4c1-4ec2f36c9bee"
      },
      "execution_count": 3,
      "outputs": [
        {
          "output_type": "stream",
          "name": "stdout",
          "text": [
            "c570b77692c1d9223ac65ecf715cc258  1005.txt\n"
          ]
        }
      ]
    },
    {
      "cell_type": "code",
      "source": [
        "!echo Howareyou > 1005a.txt"
      ],
      "metadata": {
        "id": "MOQDpj3k3qFC"
      },
      "execution_count": 4,
      "outputs": []
    },
    {
      "cell_type": "code",
      "source": [
        "!cat 1005a.txt"
      ],
      "metadata": {
        "colab": {
          "base_uri": "https://localhost:8080/"
        },
        "id": "R4uYcVkn32Wl",
        "outputId": "95011a84-1af7-4904-dee7-7ed8bdf9ac8b"
      },
      "execution_count": 5,
      "outputs": [
        {
          "output_type": "stream",
          "name": "stdout",
          "text": [
            "Howareyou\n"
          ]
        }
      ]
    },
    {
      "cell_type": "code",
      "source": [
        "!md5sum 1005a.txt"
      ],
      "metadata": {
        "colab": {
          "base_uri": "https://localhost:8080/"
        },
        "id": "prBWuC4O36yx",
        "outputId": "3daa0246-894d-4482-ccea-96c51f760905"
      },
      "execution_count": 6,
      "outputs": [
        {
          "output_type": "stream",
          "name": "stdout",
          "text": [
            "8a4e5bf3c590a259be038407069f5a00  1005a.txt\n"
          ]
        }
      ]
    }
  ]
}